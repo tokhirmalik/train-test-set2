{
  "nbformat": 4,
  "nbformat_minor": 0,
  "metadata": {
    "colab": {
      "private_outputs": true,
      "provenance": []
    },
    "kernelspec": {
      "name": "python3",
      "display_name": "Python 3"
    },
    "language_info": {
      "name": "python"
    }
  },
  "cells": [
    {
      "cell_type": "code",
      "execution_count": null,
      "metadata": {
        "id": "5fCZMUpVO3zg"
      },
      "outputs": [],
      "source": [
        "import pandas as pd\n",
        "import numpy as np\n",
        "import sklearn\n",
        "import seaborn as sns\n",
        "import matplotlib.pyplot as plt\n"
      ]
    },
    {
      "cell_type": "code",
      "source": [
        "url = \"https://raw.githubusercontent.com/ageron/handson-ml2/master/datasets/housing/housing.csv\"\n",
        "df = pd.read_csv(url)\n",
        "df.head()"
      ],
      "metadata": {
        "id": "IboyOXArPJHV"
      },
      "execution_count": null,
      "outputs": []
    },
    {
      "cell_type": "code",
      "source": [
        "df.shape\n",
        "df.describe()"
      ],
      "metadata": {
        "id": "o_uP0XjZPTRr"
      },
      "execution_count": null,
      "outputs": []
    },
    {
      "cell_type": "code",
      "source": [
        "from sklearn.model_selection import train_test_split\n",
        "train_set, test_set = train_test_split(df, test_size=0.2, random_state=22)"
      ],
      "metadata": {
        "id": "6nuht_fOPVhj"
      },
      "execution_count": null,
      "outputs": []
    },
    {
      "cell_type": "code",
      "source": [
        "train_set.head(10)"
      ],
      "metadata": {
        "id": "erZ3LbVWQDfs"
      },
      "execution_count": null,
      "outputs": []
    },
    {
      "cell_type": "code",
      "source": [
        "test_set"
      ],
      "metadata": {
        "id": "kmpzdJetQFw7"
      },
      "execution_count": null,
      "outputs": []
    },
    {
      "cell_type": "code",
      "source": [
        "df['income_cat'] = pd.cut(df['median_income'], bins=[0.,1.5,3.0,4.5,6.0,np.inf], labels=[1,2,3,4,5])\n",
        "df['income_cat'].hist(figsize=(9,6))\n",
        "plt.show()"
      ],
      "metadata": {
        "id": "jL_mPZZrTjeb"
      },
      "execution_count": null,
      "outputs": []
    },
    {
      "cell_type": "code",
      "source": [
        "from sklearn.model_selection import StratifiedShuffleSplit\n",
        "stratified_split = StratifiedShuffleSplit(n_splits=1, test_size=0.2, random_state=42)\n",
        "for train_index, test_index in stratified_split.split(df,df['income_cat']):\n",
        "  strat_train_set = df.loc[train_index]\n",
        "  strat_test_set = df.loc[test_index]\n"
      ],
      "metadata": {
        "id": "eYIAbJyeQQYL"
      },
      "execution_count": null,
      "outputs": []
    },
    {
      "cell_type": "code",
      "source": [
        "df['income_cat'].hist(figsize=(9,6))\n",
        "plt.show()\n"
      ],
      "metadata": {
        "id": "b7BxJpFFUckL"
      },
      "execution_count": null,
      "outputs": []
    },
    {
      "cell_type": "code",
      "source": [
        "strat_train_set['income_cat'].hist(figsize=(9,6))\n",
        "plt.show()"
      ],
      "metadata": {
        "id": "rrivPrwScmvF"
      },
      "execution_count": null,
      "outputs": []
    },
    {
      "cell_type": "code",
      "source": [
        "strat_train_set.drop('income_cat',axis=1,inplace=True)\n",
        "strat_test_set.drop('income_cat',axis=1,inplace=True)"
      ],
      "metadata": {
        "id": "eZ3EUF0UddS6"
      },
      "execution_count": null,
      "outputs": []
    },
    {
      "cell_type": "code",
      "source": [
        "housing = strat_train_set.copy()\n",
        "housing.head()"
      ],
      "metadata": {
        "id": "rdbmJEAViS0d"
      },
      "execution_count": null,
      "outputs": []
    },
    {
      "cell_type": "code",
      "source": [
        "housing.plot(kind='scatter',x='longitude',y='latitude',figsize=(9,6))\n",
        "plt.show()"
      ],
      "metadata": {
        "id": "DF2iQThltGIj"
      },
      "execution_count": null,
      "outputs": []
    },
    {
      "cell_type": "code",
      "source": [
        "housing.plot(kind='scatter',\n",
        "             x='longitude',\n",
        "             y='latitude',\n",
        "             alpha=0.4,\n",
        "             s=housing['population']/100,\n",
        "             label='population',\n",
        "             cmap='jet',\n",
        "             colorbar=True,\n",
        "             c='median_house_value')\n",
        "plt.show()"
      ],
      "metadata": {
        "id": "MMF9boq5tV_z"
      },
      "execution_count": null,
      "outputs": []
    },
    {
      "cell_type": "code",
      "source": [
        "df.corrwith(df['median_house_value'], numeric_only=True).sort_values(ascending=False)\n"
      ],
      "metadata": {
        "id": "kv8hmnNzubf0"
      },
      "execution_count": null,
      "outputs": []
    },
    {
      "cell_type": "code",
      "source": [
        "cols = ['median_house_value','median_income','total_rooms','housing_median_age']\n",
        "sns.pairplot(housing[cols],height=5)\n",
        "plt.show()"
      ],
      "metadata": {
        "id": "_4HT2LbS0C6r"
      },
      "execution_count": null,
      "outputs": []
    },
    {
      "cell_type": "code",
      "source": [
        "housing['rooms_per_household'] = housing['total_rooms']/housing['households']\n",
        "housing['bedrooms_per_room'] = housing['total_bedrooms']/housing['total_rooms']\n",
        "housing['population_per_household'] = housing['population']/housing['households']"
      ],
      "metadata": {
        "id": "umgeiAs902LD"
      },
      "execution_count": null,
      "outputs": []
    },
    {
      "cell_type": "code",
      "source": [
        "housing.corrwith(housing['median_house_value'],numeric_only=True).sort_values(ascending=False)\n"
      ],
      "metadata": {
        "id": "C2pHrJ9O3ZZN"
      },
      "execution_count": null,
      "outputs": []
    },
    {
      "cell_type": "code",
      "source": [],
      "metadata": {
        "id": "0LE2zNcN3ZcW"
      },
      "execution_count": null,
      "outputs": []
    },
    {
      "cell_type": "code",
      "source": [],
      "metadata": {
        "id": "aTjgnKDA3ZfL"
      },
      "execution_count": null,
      "outputs": []
    }
  ]
}